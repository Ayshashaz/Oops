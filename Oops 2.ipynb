{
 "cells": [
  {
   "cell_type": "code",
   "execution_count": 1,
   "id": "639dacff",
   "metadata": {},
   "outputs": [
    {
     "name": "stdout",
     "output_type": "stream",
     "text": [
      "Addition of 20 and 5: 25\n",
      "Subtraction of 20 and 5: 15\n",
      "Multiplication of 20 and 5: 100\n",
      "Division of 20 and 5: 4.0\n"
     ]
    }
   ],
   "source": [
    "class Calculator:\n",
    "    def add(self, a, b):\n",
    "        \"\"\"Return the sum of a and b.\"\"\"\n",
    "        return a + b\n",
    "    def subtract(self, a, b):\n",
    "        \"\"\"Return the difference of and b.\"\"\"\n",
    "        return a - b\n",
    "    def multiply(self, a, b):\n",
    "        \"\"\"Return the product of a and b.\"\"\"\n",
    "        return a * b\n",
    "    def divide(self, a, b):\n",
    "        \"\"\"Return the quotient of a and b. Raises an error if b is zero.\"\"\"\n",
    "        if b == 0:\n",
    "            raise ValueError(\"Cannot divide by zero\")\n",
    "        return a / b\n",
    "    \n",
    "calculator = Calculator()\n",
    "a = 20\n",
    "b = 5\n",
    "\n",
    "print(f\"Addition of {a} and {b}: {calculator.add(a, b)}\")\n",
    "print(f\"Subtraction of {a} and {b}: {calculator.subtract(a, b)}\")\n",
    "print(f\"Multiplication of {a} and {b}: {calculator.multiply(a, b)}\")\n",
    "print(f\"Division of {a} and {b}: {calculator.divide(a, b)}\")"
   ]
  },
  {
   "cell_type": "code",
   "execution_count": null,
   "id": "2d79c2bd",
   "metadata": {},
   "outputs": [],
   "source": []
  }
 ],
 "metadata": {
  "kernelspec": {
   "display_name": "Python 3 (ipykernel)",
   "language": "python",
   "name": "python3"
  },
  "language_info": {
   "codemirror_mode": {
    "name": "ipython",
    "version": 3
   },
   "file_extension": ".py",
   "mimetype": "text/x-python",
   "name": "python",
   "nbconvert_exporter": "python",
   "pygments_lexer": "ipython3",
   "version": "3.9.12"
  }
 },
 "nbformat": 4,
 "nbformat_minor": 5
}
